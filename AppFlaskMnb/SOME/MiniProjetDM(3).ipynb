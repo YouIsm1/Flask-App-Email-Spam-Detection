{
  "nbformat": 4,
  "nbformat_minor": 0,
  "metadata": {
    "colab": {
      "provenance": []
    },
    "kernelspec": {
      "name": "python3",
      "display_name": "Python 3"
    },
    "language_info": {
      "name": "python"
    }
  },
  "cells": [
    {
      "cell_type": "code",
      "execution_count": 3,
      "metadata": {
        "colab": {
          "base_uri": "https://localhost:8080/"
        },
        "id": "uxDbGuvRjWE8",
        "outputId": "ab2dde3b-e8c7-47e0-a999-1ce8e5ca9a66"
      },
      "outputs": [
        {
          "output_type": "stream",
          "name": "stdout",
          "text": [
            "Collecting scikit-plot\n",
            "  Downloading scikit_plot-0.3.7-py3-none-any.whl (33 kB)\n",
            "Requirement already satisfied: matplotlib>=1.4.0 in /usr/local/lib/python3.10/dist-packages (from scikit-plot) (3.7.1)\n",
            "Requirement already satisfied: scikit-learn>=0.18 in /usr/local/lib/python3.10/dist-packages (from scikit-plot) (1.2.2)\n",
            "Requirement already satisfied: scipy>=0.9 in /usr/local/lib/python3.10/dist-packages (from scikit-plot) (1.11.4)\n",
            "Requirement already satisfied: joblib>=0.10 in /usr/local/lib/python3.10/dist-packages (from scikit-plot) (1.3.2)\n",
            "Requirement already satisfied: contourpy>=1.0.1 in /usr/local/lib/python3.10/dist-packages (from matplotlib>=1.4.0->scikit-plot) (1.2.0)\n",
            "Requirement already satisfied: cycler>=0.10 in /usr/local/lib/python3.10/dist-packages (from matplotlib>=1.4.0->scikit-plot) (0.12.1)\n",
            "Requirement already satisfied: fonttools>=4.22.0 in /usr/local/lib/python3.10/dist-packages (from matplotlib>=1.4.0->scikit-plot) (4.49.0)\n",
            "Requirement already satisfied: kiwisolver>=1.0.1 in /usr/local/lib/python3.10/dist-packages (from matplotlib>=1.4.0->scikit-plot) (1.4.5)\n",
            "Requirement already satisfied: numpy>=1.20 in /usr/local/lib/python3.10/dist-packages (from matplotlib>=1.4.0->scikit-plot) (1.25.2)\n",
            "Requirement already satisfied: packaging>=20.0 in /usr/local/lib/python3.10/dist-packages (from matplotlib>=1.4.0->scikit-plot) (24.0)\n",
            "Requirement already satisfied: pillow>=6.2.0 in /usr/local/lib/python3.10/dist-packages (from matplotlib>=1.4.0->scikit-plot) (9.4.0)\n",
            "Requirement already satisfied: pyparsing>=2.3.1 in /usr/local/lib/python3.10/dist-packages (from matplotlib>=1.4.0->scikit-plot) (3.1.2)\n",
            "Requirement already satisfied: python-dateutil>=2.7 in /usr/local/lib/python3.10/dist-packages (from matplotlib>=1.4.0->scikit-plot) (2.8.2)\n",
            "Requirement already satisfied: threadpoolctl>=2.0.0 in /usr/local/lib/python3.10/dist-packages (from scikit-learn>=0.18->scikit-plot) (3.3.0)\n",
            "Requirement already satisfied: six>=1.5 in /usr/local/lib/python3.10/dist-packages (from python-dateutil>=2.7->matplotlib>=1.4.0->scikit-plot) (1.16.0)\n",
            "Installing collected packages: scikit-plot\n",
            "Successfully installed scikit-plot-0.3.7\n"
          ]
        }
      ],
      "source": [
        "!pip install scikit-plot\n",
        "import pandas as pd\n",
        "import matplotlib.pyplot as plt\n",
        "import scikitplot as skplt\n",
        "from sklearn.model_selection import train_test_split as tts\n",
        "from sklearn.feature_extraction.text import CountVectorizer\n",
        "from sklearn.naive_bayes import MultinomialNB\n",
        "from sklearn.metrics import accuracy_score, precision_score, recall_score , confusion_matrix, classification_report\n"
      ]
    },
    {
      "cell_type": "markdown",
      "source": [
        "#exploration des donnees\n"
      ],
      "metadata": {
        "id": "xCavvZ2J3B4v"
      }
    },
    {
      "cell_type": "code",
      "source": [
        "from google.colab import files\n",
        "uploaded = files.upload()"
      ],
      "metadata": {
        "colab": {
          "base_uri": "https://localhost:8080/",
          "height": 76
        },
        "id": "FSC4wfUpjxiU",
        "outputId": "ac7a0cbd-e2e8-4967-b933-82c3aeb149d7"
      },
      "execution_count": 4,
      "outputs": [
        {
          "output_type": "display_data",
          "data": {
            "text/plain": [
              "<IPython.core.display.HTML object>"
            ],
            "text/html": [
              "\n",
              "     <input type=\"file\" id=\"files-b512e5a7-a66d-465b-88e1-d39a9ff37978\" name=\"files[]\" multiple disabled\n",
              "        style=\"border:none\" />\n",
              "     <output id=\"result-b512e5a7-a66d-465b-88e1-d39a9ff37978\">\n",
              "      Upload widget is only available when the cell has been executed in the\n",
              "      current browser session. Please rerun this cell to enable.\n",
              "      </output>\n",
              "      <script>// Copyright 2017 Google LLC\n",
              "//\n",
              "// Licensed under the Apache License, Version 2.0 (the \"License\");\n",
              "// you may not use this file except in compliance with the License.\n",
              "// You may obtain a copy of the License at\n",
              "//\n",
              "//      http://www.apache.org/licenses/LICENSE-2.0\n",
              "//\n",
              "// Unless required by applicable law or agreed to in writing, software\n",
              "// distributed under the License is distributed on an \"AS IS\" BASIS,\n",
              "// WITHOUT WARRANTIES OR CONDITIONS OF ANY KIND, either express or implied.\n",
              "// See the License for the specific language governing permissions and\n",
              "// limitations under the License.\n",
              "\n",
              "/**\n",
              " * @fileoverview Helpers for google.colab Python module.\n",
              " */\n",
              "(function(scope) {\n",
              "function span(text, styleAttributes = {}) {\n",
              "  const element = document.createElement('span');\n",
              "  element.textContent = text;\n",
              "  for (const key of Object.keys(styleAttributes)) {\n",
              "    element.style[key] = styleAttributes[key];\n",
              "  }\n",
              "  return element;\n",
              "}\n",
              "\n",
              "// Max number of bytes which will be uploaded at a time.\n",
              "const MAX_PAYLOAD_SIZE = 100 * 1024;\n",
              "\n",
              "function _uploadFiles(inputId, outputId) {\n",
              "  const steps = uploadFilesStep(inputId, outputId);\n",
              "  const outputElement = document.getElementById(outputId);\n",
              "  // Cache steps on the outputElement to make it available for the next call\n",
              "  // to uploadFilesContinue from Python.\n",
              "  outputElement.steps = steps;\n",
              "\n",
              "  return _uploadFilesContinue(outputId);\n",
              "}\n",
              "\n",
              "// This is roughly an async generator (not supported in the browser yet),\n",
              "// where there are multiple asynchronous steps and the Python side is going\n",
              "// to poll for completion of each step.\n",
              "// This uses a Promise to block the python side on completion of each step,\n",
              "// then passes the result of the previous step as the input to the next step.\n",
              "function _uploadFilesContinue(outputId) {\n",
              "  const outputElement = document.getElementById(outputId);\n",
              "  const steps = outputElement.steps;\n",
              "\n",
              "  const next = steps.next(outputElement.lastPromiseValue);\n",
              "  return Promise.resolve(next.value.promise).then((value) => {\n",
              "    // Cache the last promise value to make it available to the next\n",
              "    // step of the generator.\n",
              "    outputElement.lastPromiseValue = value;\n",
              "    return next.value.response;\n",
              "  });\n",
              "}\n",
              "\n",
              "/**\n",
              " * Generator function which is called between each async step of the upload\n",
              " * process.\n",
              " * @param {string} inputId Element ID of the input file picker element.\n",
              " * @param {string} outputId Element ID of the output display.\n",
              " * @return {!Iterable<!Object>} Iterable of next steps.\n",
              " */\n",
              "function* uploadFilesStep(inputId, outputId) {\n",
              "  const inputElement = document.getElementById(inputId);\n",
              "  inputElement.disabled = false;\n",
              "\n",
              "  const outputElement = document.getElementById(outputId);\n",
              "  outputElement.innerHTML = '';\n",
              "\n",
              "  const pickedPromise = new Promise((resolve) => {\n",
              "    inputElement.addEventListener('change', (e) => {\n",
              "      resolve(e.target.files);\n",
              "    });\n",
              "  });\n",
              "\n",
              "  const cancel = document.createElement('button');\n",
              "  inputElement.parentElement.appendChild(cancel);\n",
              "  cancel.textContent = 'Cancel upload';\n",
              "  const cancelPromise = new Promise((resolve) => {\n",
              "    cancel.onclick = () => {\n",
              "      resolve(null);\n",
              "    };\n",
              "  });\n",
              "\n",
              "  // Wait for the user to pick the files.\n",
              "  const files = yield {\n",
              "    promise: Promise.race([pickedPromise, cancelPromise]),\n",
              "    response: {\n",
              "      action: 'starting',\n",
              "    }\n",
              "  };\n",
              "\n",
              "  cancel.remove();\n",
              "\n",
              "  // Disable the input element since further picks are not allowed.\n",
              "  inputElement.disabled = true;\n",
              "\n",
              "  if (!files) {\n",
              "    return {\n",
              "      response: {\n",
              "        action: 'complete',\n",
              "      }\n",
              "    };\n",
              "  }\n",
              "\n",
              "  for (const file of files) {\n",
              "    const li = document.createElement('li');\n",
              "    li.append(span(file.name, {fontWeight: 'bold'}));\n",
              "    li.append(span(\n",
              "        `(${file.type || 'n/a'}) - ${file.size} bytes, ` +\n",
              "        `last modified: ${\n",
              "            file.lastModifiedDate ? file.lastModifiedDate.toLocaleDateString() :\n",
              "                                    'n/a'} - `));\n",
              "    const percent = span('0% done');\n",
              "    li.appendChild(percent);\n",
              "\n",
              "    outputElement.appendChild(li);\n",
              "\n",
              "    const fileDataPromise = new Promise((resolve) => {\n",
              "      const reader = new FileReader();\n",
              "      reader.onload = (e) => {\n",
              "        resolve(e.target.result);\n",
              "      };\n",
              "      reader.readAsArrayBuffer(file);\n",
              "    });\n",
              "    // Wait for the data to be ready.\n",
              "    let fileData = yield {\n",
              "      promise: fileDataPromise,\n",
              "      response: {\n",
              "        action: 'continue',\n",
              "      }\n",
              "    };\n",
              "\n",
              "    // Use a chunked sending to avoid message size limits. See b/62115660.\n",
              "    let position = 0;\n",
              "    do {\n",
              "      const length = Math.min(fileData.byteLength - position, MAX_PAYLOAD_SIZE);\n",
              "      const chunk = new Uint8Array(fileData, position, length);\n",
              "      position += length;\n",
              "\n",
              "      const base64 = btoa(String.fromCharCode.apply(null, chunk));\n",
              "      yield {\n",
              "        response: {\n",
              "          action: 'append',\n",
              "          file: file.name,\n",
              "          data: base64,\n",
              "        },\n",
              "      };\n",
              "\n",
              "      let percentDone = fileData.byteLength === 0 ?\n",
              "          100 :\n",
              "          Math.round((position / fileData.byteLength) * 100);\n",
              "      percent.textContent = `${percentDone}% done`;\n",
              "\n",
              "    } while (position < fileData.byteLength);\n",
              "  }\n",
              "\n",
              "  // All done.\n",
              "  yield {\n",
              "    response: {\n",
              "      action: 'complete',\n",
              "    }\n",
              "  };\n",
              "}\n",
              "\n",
              "scope.google = scope.google || {};\n",
              "scope.google.colab = scope.google.colab || {};\n",
              "scope.google.colab._files = {\n",
              "  _uploadFiles,\n",
              "  _uploadFilesContinue,\n",
              "};\n",
              "})(self);\n",
              "</script> "
            ]
          },
          "metadata": {}
        },
        {
          "output_type": "stream",
          "name": "stdout",
          "text": [
            "Saving spam_ham_dataset.csv to spam_ham_dataset.csv\n"
          ]
        }
      ]
    },
    {
      "cell_type": "code",
      "source": [
        "# df = pd.read_csv('spam_ham_dataset.csv', sep='\\t', names=['label', 'messages'])\n",
        "df = pd.read_csv('spam_ham_dataset.csv')"
      ],
      "metadata": {
        "id": "WCJYHhhtkIYJ"
      },
      "execution_count": 5,
      "outputs": []
    },
    {
      "cell_type": "markdown",
      "source": [],
      "metadata": {
        "id": "cSJit9dGoMdb"
      }
    },
    {
      "cell_type": "code",
      "source": [
        "print(df.head())"
      ],
      "metadata": {
        "colab": {
          "base_uri": "https://localhost:8080/"
        },
        "id": "tCnd74VRlbka",
        "outputId": "cc25ec93-4141-456e-c00e-7ec0fffb50b3"
      },
      "execution_count": 6,
      "outputs": [
        {
          "output_type": "stream",
          "name": "stdout",
          "text": [
            "   Unnamed: 0 label                                               text  \\\n",
            "0         605   ham  Subject: enron methanol ; meter # : 988291\\r\\n...   \n",
            "1        2349   ham  Subject: hpl nom for january 9 , 2001\\r\\n( see...   \n",
            "2        3624   ham  Subject: neon retreat\\r\\nho ho ho , we ' re ar...   \n",
            "3        4685  spam  Subject: photoshop , windows , office . cheap ...   \n",
            "4        2030   ham  Subject: re : indian springs\\r\\nthis deal is t...   \n",
            "\n",
            "   label_num  \n",
            "0          0  \n",
            "1          0  \n",
            "2          0  \n",
            "3          1  \n",
            "4          0  \n"
          ]
        }
      ]
    },
    {
      "cell_type": "code",
      "source": [
        "df = df[['text', 'label_num']]"
      ],
      "metadata": {
        "id": "kdapjG-0lfLn"
      },
      "execution_count": 7,
      "outputs": []
    },
    {
      "cell_type": "code",
      "source": [
        "print(df.head(10))\n",
        "# print(df['text'].iloc[1000])"
      ],
      "metadata": {
        "colab": {
          "base_uri": "https://localhost:8080/"
        },
        "id": "LSJPQW82oi7k",
        "outputId": "49db08df-010e-43a9-81a0-0a730b45dc94"
      },
      "execution_count": 8,
      "outputs": [
        {
          "output_type": "stream",
          "name": "stdout",
          "text": [
            "                                                text  label_num\n",
            "0  Subject: enron methanol ; meter # : 988291\\r\\n...          0\n",
            "1  Subject: hpl nom for january 9 , 2001\\r\\n( see...          0\n",
            "2  Subject: neon retreat\\r\\nho ho ho , we ' re ar...          0\n",
            "3  Subject: photoshop , windows , office . cheap ...          1\n",
            "4  Subject: re : indian springs\\r\\nthis deal is t...          0\n",
            "5  Subject: ehronline web address change\\r\\nthis ...          0\n",
            "6  Subject: spring savings certificate - take 30 ...          0\n",
            "7  Subject: looking for medication ? we ` re the ...          1\n",
            "8  Subject: noms / actual flow for 2 / 26\\r\\nwe a...          0\n",
            "9  Subject: nominations for oct . 21 - 23 , 2000\\...          0\n"
          ]
        }
      ]
    },
    {
      "cell_type": "code",
      "source": [
        "count_Class = pd.value_counts(df.label_num, sort = True)\n",
        "\n",
        "# Data to Plot\n",
        "labels = 'NotSpam', 'Spam'\n",
        "sizes = [count_Class[0], count_Class[1]]\n",
        "colors = ['green', 'red']\n",
        "explode = (0.1, 0.1)\n",
        "\n",
        "# Plot\n",
        "plt.pie(sizes, explode = explode, labels = labels, colors = colors, autopct = '%1.1f%%', shadow = True, startangle = 90)\n",
        "plt.axis('equal')\n",
        "plt.show()"
      ],
      "metadata": {
        "colab": {
          "base_uri": "https://localhost:8080/",
          "height": 406
        },
        "id": "ah1Rrqgtoz3O",
        "outputId": "fa07f590-8a28-4fd1-ed87-c137c7c86d9c"
      },
      "execution_count": 9,
      "outputs": [
        {
          "output_type": "display_data",
          "data": {
            "text/plain": [
              "<Figure size 640x480 with 1 Axes>"
            ],
            "image/png": "[encoded data removed]"
          },
          "metadata": {}
        }
      ]
    },
    {
      "cell_type": "markdown",
      "source": [
        "#pre-conception de modele"
      ],
      "metadata": {
        "id": "TqOF6Fau3M6o"
      }
    },
    {
      "cell_type": "code",
      "source": [
        "X_train, X_test, y_train, y_test = tts(df['text'], df['label_num'], test_size=0.2, random_state=1)"
      ],
      "metadata": {
        "id": "LZi-pmPZ03nA"
      },
      "execution_count": 10,
      "outputs": []
    },
    {
      "cell_type": "code",
      "source": [
        "#vectorizing the data\n",
        "count_vector = CountVectorizer()\n",
        "train_data = count_vector.fit_transform(X_train)\n",
        "test_data = count_vector.transform(X_test)"
      ],
      "metadata": {
        "id": "iBCY-y1Y1Zm5"
      },
      "execution_count": 11,
      "outputs": []
    },
    {
      "cell_type": "code",
      "source": [
        "print(f\"{train_data}\\n avec shape : {train_data.shape}\")"
      ],
      "metadata": {
        "colab": {
          "base_uri": "https://localhost:8080/"
        },
        "id": "Xudu6NS11dI6",
        "outputId": "dbc2e576-d0ed-487e-97d9-03e5625ec071"
      },
      "execution_count": 12,
      "outputs": [
        {
          "output_type": "stream",
          "name": "stdout",
          "text": [
            "  (0, 38756)\t1\n",
            "  (0, 21562)\t1\n",
            "  (0, 39918)\t1\n",
            "  (0, 28494)\t1\n",
            "  (0, 34210)\t1\n",
            "  (0, 29749)\t1\n",
            "  (1, 38756)\t1\n",
            "  (1, 39918)\t3\n",
            "  (1, 34098)\t1\n",
            "  (1, 44332)\t2\n",
            "  (1, 4473)\t1\n",
            "  (1, 8304)\t1\n",
            "  (1, 2456)\t1\n",
            "  (1, 21399)\t1\n",
            "  (1, 4997)\t1\n",
            "  (1, 36625)\t1\n",
            "  (1, 5714)\t1\n",
            "  (1, 16456)\t1\n",
            "  (1, 25427)\t1\n",
            "  (1, 42993)\t1\n",
            "  (1, 5768)\t3\n",
            "  (1, 42782)\t1\n",
            "  (1, 40351)\t1\n",
            "  (1, 12185)\t1\n",
            "  (1, 17313)\t1\n",
            "  :\t:\n",
            "  (4135, 114)\t2\n",
            "  (4135, 10371)\t1\n",
            "  (4135, 30243)\t2\n",
            "  (4135, 6750)\t1\n",
            "  (4135, 18819)\t1\n",
            "  (4135, 9642)\t1\n",
            "  (4135, 36480)\t1\n",
            "  (4135, 11780)\t1\n",
            "  (4135, 1375)\t1\n",
            "  (4135, 331)\t2\n",
            "  (4135, 34566)\t1\n",
            "  (4135, 18230)\t1\n",
            "  (4135, 43962)\t2\n",
            "  (4135, 5633)\t2\n",
            "  (4135, 10957)\t2\n",
            "  (4135, 16203)\t2\n",
            "  (4135, 17986)\t2\n",
            "  (4135, 71)\t2\n",
            "  (4135, 1192)\t1\n",
            "  (4135, 5144)\t2\n",
            "  (4135, 154)\t1\n",
            "  (4135, 15693)\t2\n",
            "  (4135, 40889)\t1\n",
            "  (4135, 7881)\t1\n",
            "  (4135, 26015)\t2\n",
            " avec shape : (4136, 44759)\n"
          ]
        }
      ]
    },
    {
      "cell_type": "markdown",
      "source": [
        "#Naïve Bayes classifier for multinomial models"
      ],
      "metadata": {
        "id": "0QTtJ68a13yP"
      }
    },
    {
      "cell_type": "code",
      "source": [
        "Mnb = MultinomialNB()\n",
        "Mnb.fit(train_data, y_train)"
      ],
      "metadata": {
        "colab": {
          "base_uri": "https://localhost:8080/",
          "height": 74
        },
        "id": "XTvQ4YVO1gnC",
        "outputId": "9ffd87b2-5101-41cf-c522-12c71b6c3413"
      },
      "execution_count": 13,
      "outputs": [
        {
          "output_type": "execute_result",
          "data": {
            "text/plain": [
              "MultinomialNB()"
            ],
            "text/html": [
              "<style>#sk-container-id-1 {color: black;background-color: white;}#sk-container-id-1 pre{padding: 0;}#sk-container-id-1 div.sk-toggleable {background-color: white;}#sk-container-id-1 label.sk-toggleable__label {cursor: pointer;display: block;width: 100%;margin-bottom: 0;padding: 0.3em;box-sizing: border-box;text-align: center;}#sk-container-id-1 label.sk-toggleable__label-arrow:before {content: \"▸\";float: left;margin-right: 0.25em;color: #696969;}#sk-container-id-1 label.sk-toggleable__label-arrow:hover:before {color: black;}#sk-container-id-1 div.sk-estimator:hover label.sk-toggleable__label-arrow:before {color: black;}#sk-container-id-1 div.sk-toggleable__content {max-height: 0;max-width: 0;overflow: hidden;text-align: left;background-color: #f0f8ff;}#sk-container-id-1 div.sk-toggleable__content pre {margin: 0.2em;color: black;border-radius: 0.25em;background-color: #f0f8ff;}#sk-container-id-1 input.sk-toggleable__control:checked~div.sk-toggleable__content {max-height: 200px;max-width: 100%;overflow: auto;}#sk-container-id-1 input.sk-toggleable__control:checked~label.sk-toggleable__label-arrow:before {content: \"▾\";}#sk-container-id-1 div.sk-estimator input.sk-toggleable__control:checked~label.sk-toggleable__label {background-color: #d4ebff;}#sk-container-id-1 div.sk-label input.sk-toggleable__control:checked~label.sk-toggleable__label {background-color: #d4ebff;}#sk-container-id-1 input.sk-hidden--visually {border: 0;clip: rect(1px 1px 1px 1px);clip: rect(1px, 1px, 1px, 1px);height: 1px;margin: -1px;overflow: hidden;padding: 0;position: absolute;width: 1px;}#sk-container-id-1 div.sk-estimator {font-family: monospace;background-color: #f0f8ff;border: 1px dotted black;border-radius: 0.25em;box-sizing: border-box;margin-bottom: 0.5em;}#sk-container-id-1 div.sk-estimator:hover {background-color: #d4ebff;}#sk-container-id-1 div.sk-parallel-item::after {content: \"\";width: 100%;border-bottom: 1px solid gray;flex-grow: 1;}#sk-container-id-1 div.sk-label:hover label.sk-toggleable__label {background-color: #d4ebff;}#sk-container-id-1 div.sk-serial::before {content: \"\";position: absolute;border-left: 1px solid gray;box-sizing: border-box;top: 0;bottom: 0;left: 50%;z-index: 0;}#sk-container-id-1 div.sk-serial {display: flex;flex-direction: column;align-items: center;background-color: white;padding-right: 0.2em;padding-left: 0.2em;position: relative;}#sk-container-id-1 div.sk-item {position: relative;z-index: 1;}#sk-container-id-1 div.sk-parallel {display: flex;align-items: stretch;justify-content: center;background-color: white;position: relative;}#sk-container-id-1 div.sk-item::before, #sk-container-id-1 div.sk-parallel-item::before {content: \"\";position: absolute;border-left: 1px solid gray;box-sizing: border-box;top: 0;bottom: 0;left: 50%;z-index: -1;}#sk-container-id-1 div.sk-parallel-item {display: flex;flex-direction: column;z-index: 1;position: relative;background-color: white;}#sk-container-id-1 div.sk-parallel-item:first-child::after {align-self: flex-end;width: 50%;}#sk-container-id-1 div.sk-parallel-item:last-child::after {align-self: flex-start;width: 50%;}#sk-container-id-1 div.sk-parallel-item:only-child::after {width: 0;}#sk-container-id-1 div.sk-dashed-wrapped {border: 1px dashed gray;margin: 0 0.4em 0.5em 0.4em;box-sizing: border-box;padding-bottom: 0.4em;background-color: white;}#sk-container-id-1 div.sk-label label {font-family: monospace;font-weight: bold;display: inline-block;line-height: 1.2em;}#sk-container-id-1 div.sk-label-container {text-align: center;}#sk-container-id-1 div.sk-container {/* jupyter's `normalize.less` sets `[hidden] { display: none; }` but bootstrap.min.css set `[hidden] { display: none !important; }` so we also need the `!important` here to be able to override the default hidden behavior on the sphinx rendered scikit-learn.org. See: https://github.com/scikit-learn/scikit-learn/issues/21755 */display: inline-block !important;position: relative;}#sk-container-id-1 div.sk-text-repr-fallback {display: none;}</style><div id=\"sk-container-id-1\" class=\"sk-top-container\"><div class=\"sk-text-repr-fallback\"><pre>MultinomialNB()</pre><b>In a Jupyter environment, please rerun this cell to show the HTML representation or trust the notebook. <br />On GitHub, the HTML representation is unable to render, please try loading this page with nbviewer.org.</b></div><div class=\"sk-container\" hidden><div class=\"sk-item\"><div class=\"sk-estimator sk-toggleable\"><input class=\"sk-toggleable__control sk-hidden--visually\" id=\"sk-estimator-id-1\" type=\"checkbox\" checked><label for=\"sk-estimator-id-1\" class=\"sk-toggleable__label sk-toggleable__label-arrow\">MultinomialNB</label><div class=\"sk-toggleable__content\"><pre>MultinomialNB()</pre></div></div></div></div></div>"
            ]
          },
          "metadata": {},
          "execution_count": 13
        }
      ]
    },
    {
      "cell_type": "markdown",
      "source": [
        "#Now we predict"
      ],
      "metadata": {
        "id": "0r3dYIM42BFf"
      }
    },
    {
      "cell_type": "code",
      "source": [
        "MnbPredicts = Mnb.predict(test_data)\n",
        "print(f\"on a MnbPredicts est :\\n {MnbPredicts} \\n avec shape est : {MnbPredicts.shape}\")"
      ],
      "metadata": {
        "colab": {
          "base_uri": "https://localhost:8080/"
        },
        "id": "01oypuep173x",
        "outputId": "a5b65cf9-c755-40f9-9a6a-b7d31320f954"
      },
      "execution_count": 14,
      "outputs": [
        {
          "output_type": "stream",
          "name": "stdout",
          "text": [
            "on a MnbPredicts est :\n",
            " [0 0 1 ... 0 0 0] \n",
            " avec shape est : (1035,)\n"
          ]
        }
      ]
    },
    {
      "cell_type": "code",
      "source": [
        "print(\"The accuracy of our Naïve Bayes multinomial model is {} %\".format(accuracy_score(y_test, MnbPredicts) * 100))\n",
        "print(\"The Precision of our Naïve Bayes multinomial model is {} %\". format(precision_score(y_test, MnbPredicts)* 100))\n",
        "print(\"The Recall of our Naïve Bayes multinomial model is {} %\" . format(recall_score(y_test, MnbPredicts)* 100))"
      ],
      "metadata": {
        "colab": {
          "base_uri": "https://localhost:8080/"
        },
        "id": "Onaat6NU2DxY",
        "outputId": "06acfbb7-1603-4394-8922-d755178abb55"
      },
      "execution_count": 15,
      "outputs": [
        {
          "output_type": "stream",
          "name": "stdout",
          "text": [
            "The accuracy of our Naïve Bayes multinomial model is 98.26086956521739 %\n",
            "The Precision of our Naïve Bayes multinomial model is 97.03947368421053 %\n",
            "The Recall of our Naïve Bayes multinomial model is 97.03947368421053 %\n"
          ]
        }
      ]
    },
    {
      "cell_type": "markdown",
      "source": [
        "#We use the confusion matrix to observe the performance of our model."
      ],
      "metadata": {
        "id": "0wzXNek62Ur_"
      }
    },
    {
      "cell_type": "code",
      "source": [
        "confusionmatrix = confusion_matrix(y_test, MnbPredicts)\n",
        "print(f\"The accuracy of Naive Bayes clasifier is {accuracy_score(y_test, MnbPredicts) * 100}\")\n",
        "print(\"\\n\", confusionmatrix)\n",
        "skplt.metrics.plot_confusion_matrix(y_test, MnbPredicts, normalize = True)\n",
        "plt.show()"
      ],
      "metadata": {
        "colab": {
          "base_uri": "https://localhost:8080/",
          "height": 547
        },
        "id": "YS9PkR4R2QKg",
        "outputId": "3af695e3-f7de-4468-a122-4d298b944e4e"
      },
      "execution_count": 31,
      "outputs": [
        {
          "output_type": "stream",
          "name": "stdout",
          "text": [
            "The accuracy of Naive Bayes clasifier is 98.26086956521739\n",
            "\n",
            " [[722   9]\n",
            " [  9 295]]\n"
          ]
        },
        {
          "output_type": "display_data",
          "data": {
            "text/plain": [
              "<Figure size 640x480 with 2 Axes>"
            ],
            "image/png": "[encoded data removed]"
          },
          "metadata": {}
        }
      ]
    },
    {
      "cell_type": "markdown",
      "source": [
        "#Now we want to test our model mbn with a new Sms/Email massage"
      ],
      "metadata": {
        "id": "E5eIMuzQ2fQr"
      }
    },
    {
      "cell_type": "code",
      "source": [
        "new_test_sample_ham = [\"Hi, I'm Mohammad Nabizadeh and I am glad to share the program that I've written with everyone.\"]\n",
        "new_test_sample_ham_vectorized = count_vector.transform(new_test_sample_ham)\n",
        "sample_predict = Mnb.predict(new_test_sample_ham_vectorized)\n",
        "# Utiliser une expression conditionnelle dans une f-string pour imprimer le résultat\n",
        "print(f\"Voici la prédiction du message : {'non-spam' if sample_predict == 0 else 'spam'}\")"
      ],
      "metadata": {
        "colab": {
          "base_uri": "https://localhost:8080/"
        },
        "id": "UTg34A8P2X4i",
        "outputId": "cbbddaf7-4ec5-4fd6-a1db-94b66743cc8a"
      },
      "execution_count": 17,
      "outputs": [
        {
          "output_type": "stream",
          "name": "stdout",
          "text": [
            "Voici la prédiction du message : non-spam\n"
          ]
        }
      ]
    },
    {
      "cell_type": "code",
      "source": [
        "new_test_sample_spam= [\"Congratulations, you've won a free Sony camera.\"]\n",
        "new_test_sample_spam_vectorized = count_vector.transform(new_test_sample_spam)\n",
        "sample_predict = Mnb.predict(new_test_sample_spam_vectorized)\n",
        "print(f\"Voici la prédiction du message : {'non-spam' if sample_predict == 0 else 'spam'}\")"
      ],
      "metadata": {
        "colab": {
          "base_uri": "https://localhost:8080/"
        },
        "id": "q3-_VUXa2jCX",
        "outputId": "b55deb7b-23dc-44e9-cb05-79163d5972d8"
      },
      "execution_count": 18,
      "outputs": [
        {
          "output_type": "stream",
          "name": "stdout",
          "text": [
            "Voici la prédiction du message : spam\n"
          ]
        }
      ]
    },
    {
      "cell_type": "code",
      "source": [
        "new_test_sample_spam= ['''Objet : Invitation à une conférence sur la technologie de demain\n",
        "\n",
        "Cher Youssef,\n",
        "\n",
        "Nous sommes ravis de vous inviter à notre prochaine conférence sur la technologie de demain qui se tiendra le [Date] à [Lieu]. Cette conférence sera une opportunité unique de découvrir les dernières avancées technologiques et d'explorer les tendances qui façonneront l'avenir.\n",
        "\n",
        "La conférence comprendra des sessions passionnantes animées par des experts de l'industrie, des démonstrations en direct de nouvelles technologies révolutionnaires et des opportunités de réseautage avec des professionnels du secteur.\n",
        "\n",
        "Nous croyons que votre expérience et votre expertise apporteront une contribution précieuse à nos discussions, et nous serions honorés de vous avoir parmi nous.\n",
        "\n",
        "Veuillez trouver ci-joint l'agenda complet de la conférence. N'hésitez pas à nous contacter si vous avez des questions ou des besoins particuliers.\n",
        "\n",
        "Nous espérons vous voir parmi nous à cette conférence passionnante !\n",
        "\n",
        "Cordialement,\n",
        "Votre nom\n",
        "Adidas\n",
        "''']\n",
        "new_test_sample_spam_vectorized = count_vector.transform(new_test_sample_spam)\n",
        "sample_predict = Mnb.predict(new_test_sample_spam_vectorized)\n",
        "print(f\"Voici la prédiction du message : {'non-spam' if sample_predict == 0 else 'spam'}\")"
      ],
      "metadata": {
        "colab": {
          "base_uri": "https://localhost:8080/"
        },
        "id": "3Ob_JXU12mMJ",
        "outputId": "98438c00-96aa-4090-ac54-afcba35e2bea"
      },
      "execution_count": 19,
      "outputs": [
        {
          "output_type": "stream",
          "name": "stdout",
          "text": [
            "Voici la prédiction du message : spam\n"
          ]
        }
      ]
    },
    {
      "cell_type": "code",
      "source": [
        "new_test_sample_spam= [\"Get rich quick! Buy now, limited offer!\"]\n",
        "new_test_sample_spam_vectorized = count_vector.transform(new_test_sample_spam)\n",
        "sample_predict = Mnb.predict(new_test_sample_spam_vectorized)\n",
        "print(f\"Voici la prédiction du message : {'non-spam' if sample_predict == 0 else 'spam'}\")"
      ],
      "metadata": {
        "colab": {
          "base_uri": "https://localhost:8080/"
        },
        "id": "wYMg1dmtmFq9",
        "outputId": "98c5c04b-2642-4f91-a2bf-4a928a7d1903"
      },
      "execution_count": 20,
      "outputs": [
        {
          "output_type": "stream",
          "name": "stdout",
          "text": [
            "Voici la prédiction du message : spam\n"
          ]
        }
      ]
    },
    {
      "cell_type": "code",
      "source": [
        "new_test_sample_spam= ['''\n",
        "Subject: Congratulations! You've won $1,000,000!\n",
        "\n",
        "Dear lucky winner,\n",
        "\n",
        "We are pleased to inform you that your email address has been selected as the grand prize winner of our annual lottery jackpot! You have won a staggering sum of $1,000,000!\n",
        "\n",
        "To claim your prize, simply reply to this email with your full name, address, and a copy of your identification. Once we receive your information, we will initiate the transfer of your winnings to your bank account.\n",
        "\n",
        "Don't miss out on this incredible opportunity to become a millionaire overnight! Reply now to claim your prize.\n",
        "\n",
        "Best regards,\n",
        "Lottery Winner Team\n",
        "\n",
        "''']\n",
        "new_test_sample_spam_vectorized = count_vector.transform(new_test_sample_spam)\n",
        "sample_predict = Mnb.predict(new_test_sample_spam_vectorized)\n",
        "print(f\"Voici la prédiction du message : {'non-spam' if sample_predict == 0 else 'spam'}\")"
      ],
      "metadata": {
        "colab": {
          "base_uri": "https://localhost:8080/"
        },
        "id": "U3V36uQq2o45",
        "outputId": "30c93142-b2c4-4bc4-b32c-20ea62c75ccb"
      },
      "execution_count": 21,
      "outputs": [
        {
          "output_type": "stream",
          "name": "stdout",
          "text": [
            "Voici la prédiction du message : spam\n"
          ]
        }
      ]
    },
    {
      "cell_type": "code",
      "source": [
        "new_test_sample_spam= ['''\n",
        "From: john.doe@example.com\n",
        "To: jane.smith@example.com\n",
        "Subject: Invitation to Conference on Artificial Intelligence\n",
        "\n",
        "Dear Jane,\n",
        "\n",
        "I hope this email finds you well. I am writing to extend a cordial invitation to you to attend the upcoming Conference on Artificial Intelligence, which will be held in New York City from March 15th to March 17th.\n",
        "\n",
        "This conference will feature renowned experts in the field of artificial intelligence, with presentations and discussions on topics ranging from machine learning algorithms to ethical considerations in AI development.\n",
        "\n",
        "As a respected colleague in the field, your insights and contributions would be invaluable to our discussions. We would be honored to have you join us as a speaker on the panel discussing \"The Future of AI in Healthcare\".\n",
        "\n",
        "Please let me know at your earliest convenience if you would be interested in participating. I have attached the conference agenda for your reference.\n",
        "\n",
        "Looking forward to hearing from you soon.\n",
        "\n",
        "Best regards,\n",
        "John Doe\n",
        "\n",
        "''']\n",
        "new_test_sample_spam_vectorized = count_vector.transform(new_test_sample_spam)\n",
        "sample_predict = Mnb.predict(new_test_sample_spam_vectorized)\n",
        "print(f\"Voici la prédiction du message : {'non-spam' if sample_predict == 0 else 'spam'}\")"
      ],
      "metadata": {
        "colab": {
          "base_uri": "https://localhost:8080/"
        },
        "id": "ySKaLLJ63rRs",
        "outputId": "90847741-cf72-4d1d-b5da-bf4f690b7d93"
      },
      "execution_count": 22,
      "outputs": [
        {
          "output_type": "stream",
          "name": "stdout",
          "text": [
            "Voici la prédiction du message : non-spam\n"
          ]
        }
      ]
    },
    {
      "cell_type": "code",
      "source": [
        "new_test_sample_spam= [\"Congratulations, you've won a free Sony camera.\"]\n",
        "new_test_sample_spam_vectorized = count_vector.transform(new_test_sample_spam)\n",
        "sample_predict = Mnb.predict(new_test_sample_spam_vectorized)\n",
        "print(f\"Voici la prédiction du message : {'non-spam' if sample_predict == 0 else 'spam'}\")"
      ],
      "metadata": {
        "colab": {
          "base_uri": "https://localhost:8080/"
        },
        "id": "1ow3jLfx34Pn",
        "outputId": "12f66361-23c2-473c-bbed-7cec2c9e60ce"
      },
      "execution_count": 23,
      "outputs": [
        {
          "output_type": "stream",
          "name": "stdout",
          "text": [
            "Voici la prédiction du message : spam\n"
          ]
        }
      ]
    },
    {
      "cell_type": "code",
      "source": [
        "new_test_sample_spam= [\"Hello Anas, I hope this email finds you in good health and that you are having a great day. I just wanted to let you know that we are having a team meeting tomorrow at 10:00 in the main conference room. We will discuss recent project progress and next steps. Your presence is important, so please confirm your availability as soon as possible. Please feel free to contact me if you have any questions or concerns. Kind regards, Youssef\"]\n",
        "new_test_sample_spam_vectorized = count_vector.transform(new_test_sample_spam)\n",
        "sample_predict = Mnb.predict(new_test_sample_spam_vectorized)\n",
        "print(f\"Voici la prédiction du message : {'non-spam' if sample_predict == 0 else 'spam'}\")"
      ],
      "metadata": {
        "id": "fUQ3jmYM4O0t",
        "outputId": "ffa67d69-6c0e-462b-abb0-185481a42d9d",
        "colab": {
          "base_uri": "https://localhost:8080/"
        }
      },
      "execution_count": 28,
      "outputs": [
        {
          "output_type": "stream",
          "name": "stdout",
          "text": [
            "Voici la prédiction du message : non-spam\n"
          ]
        }
      ]
    },
    {
      "cell_type": "code",
      "source": [
        "new_test_sample_spam= ['''\n",
        "Subject: Invitation to a conference on the technology of tomorrow\n",
        "\n",
        "Dear Youssef,\n",
        "\n",
        "We are delighted to invite you to our next conference on tomorrow's technology which will be held on [Date] in [Location]. This conference will be a unique opportunity to discover the latest technological advances and explore the trends that will shape the future.\n",
        "\n",
        "The conference will feature exciting sessions led by industry experts, live demonstrations of groundbreaking new technologies, and networking opportunities with industry professionals.\n",
        "\n",
        "We believe that your experience and expertise will make a valuable contribution to our discussions, and we would be honored to have you join us.\n",
        "\n",
        "Please find attached the full conference agenda. Please do not hesitate to contact us if you have any questions or special needs.\n",
        "\n",
        "We hope to see you among us at this exciting conference!\n",
        "\n",
        "Sincerely,\n",
        "Youssef\n",
        "Adidas\n",
        "''']\n",
        "new_test_sample_spam_vectorized = count_vector.transform(new_test_sample_spam)\n",
        "sample_predict = Mnb.predict(new_test_sample_spam_vectorized)\n",
        "print(f\"Voici la prédiction du message : {'non-spam' if sample_predict == 0 else 'spam'}\")"
      ],
      "metadata": {
        "colab": {
          "base_uri": "https://localhost:8080/"
        },
        "id": "AJsGY6von1fd",
        "outputId": "d6054012-20de-45e8-d8a4-6c5fcf54030d"
      },
      "execution_count": 29,
      "outputs": [
        {
          "output_type": "stream",
          "name": "stdout",
          "text": [
            "Voici la prédiction du message : spam\n"
          ]
        }
      ]
    },
    {
      "cell_type": "code",
      "source": [
        "new_test_sample_spam= ['''\n",
        "Subject: Invitation to Attend Business Networking Event\n",
        "\n",
        "Dear Youssef,\n",
        "\n",
        "I hope this email finds you well. I am reaching out to invite you to our upcoming business networking event scheduled for [Date] at [Location].\n",
        "\n",
        "The event promises to be an excellent opportunity to connect with professionals from various industries, share insights, and explore potential collaborations. We have lined up engaging panel discussions, interactive workshops, and ample networking sessions to facilitate meaningful interactions.\n",
        "\n",
        "We believe your expertise and experience would greatly enrich the discussions, and we would be honored to have you join us.\n",
        "\n",
        "Please find attached the detailed agenda for the event. Should you have any questions or require further information, please don't hesitate to reach out.\n",
        "\n",
        "We look forward to welcoming you to our event and fostering mutually beneficial connections.\n",
        "\n",
        "Warm regards,\n",
        "youssef\n",
        "\n",
        "''']\n",
        "new_test_sample_spam_vectorized = count_vector.transform(new_test_sample_spam)\n",
        "sample_predict = Mnb.predict(new_test_sample_spam_vectorized)\n",
        "print(f\"Voici la prédiction du message : {'non-spam' if sample_predict == 0 else 'spam'}\")"
      ],
      "metadata": {
        "colab": {
          "base_uri": "https://localhost:8080/"
        },
        "id": "OizsyUHyobye",
        "outputId": "cbea1e7c-2f17-4596-bc58-331463a6aa66"
      },
      "execution_count": 30,
      "outputs": [
        {
          "output_type": "stream",
          "name": "stdout",
          "text": [
            "Voici la prédiction du message : non-spam\n"
          ]
        }
      ]
    },
    {
      "cell_type": "code",
      "source": [
        "# !pip install joblib\n",
        "# !pip install scikit-learn\n",
        "# !pip install pickle"
      ],
      "metadata": {
        "id": "qR1rYXJ6kOey"
      },
      "execution_count": 25,
      "outputs": []
    },
    {
      "cell_type": "code",
      "source": [
        "# from sklearn.externals import joblib\n",
        "\n",
        "# # Save the trained model\n",
        "# joblib.dump(Mnb, 'spam_classifier_model.pkl')\n",
        "\n",
        "# # Save the CountVectorizer\n",
        "# joblib.dump(count_vector, 'count_vectorizer.pkl')\n",
        "\n",
        "import pickle\n",
        "\n",
        "# Save the trained model\n",
        "with open('spam_classifier_model.pkl', 'wb') as f:\n",
        "    pickle.dump(Mnb, f)\n",
        "\n",
        "# Save the CountVectorizer\n",
        "with open('count_vectorizer.pkl', 'wb') as f:\n",
        "    pickle.dump(count_vector, f)\n"
      ],
      "metadata": {
        "id": "Q_dCsqnPjojR"
      },
      "execution_count": 26,
      "outputs": []
    },
    {
      "cell_type": "code",
      "source": [
        "# import pickle\n",
        "\n",
        "# # Load the trained model\n",
        "# with open('spam_classifier_model.pkl', 'rb') as f:\n",
        "#     Mnb = pickle.load(f)\n",
        "\n",
        "# # Load the CountVectorizer\n",
        "# with open('count_vectorizer.pkl', 'rb') as f:\n",
        "#     count_vector = pickle.load(f)\n"
      ],
      "metadata": {
        "id": "Ie-BmM1GjpZi"
      },
      "execution_count": 27,
      "outputs": []
    },
    {
      "cell_type": "code",
      "source": [],
      "metadata": {
        "id": "VpP9Fxv7mI_F"
      },
      "execution_count": 27,
      "outputs": []
    }
  ]
}